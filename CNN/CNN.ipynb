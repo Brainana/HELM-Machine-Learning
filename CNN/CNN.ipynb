{
  "nbformat": 4,
  "nbformat_minor": 0,
  "metadata": {
    "colab": {
      "provenance": [],
      "gpuType": "T4"
    },
    "kernelspec": {
      "name": "python3",
      "display_name": "Python 3"
    },
    "language_info": {
      "name": "python"
    },
    "accelerator": "GPU"
  },
  "cells": [
    {
      "cell_type": "markdown",
      "source": [
        "Import libraries"
      ],
      "metadata": {
        "id": "3O95s9JMHUN0"
      }
    },
    {
      "cell_type": "code",
      "execution_count": null,
      "metadata": {
        "id": "MKnwVvQUCXGs"
      },
      "outputs": [],
      "source": [
        "import tensorflow as tf\n",
        "from keras.preprocessing.image import ImageDataGenerator"
      ]
    },
    {
      "cell_type": "code",
      "source": [
        "tf.__version__"
      ],
      "metadata": {
        "colab": {
          "base_uri": "https://localhost:8080/",
          "height": 36
        },
        "id": "nqKFePyiIHPt",
        "outputId": "79607a38-c71e-47c5-9b16-0a539be5bfff"
      },
      "execution_count": null,
      "outputs": [
        {
          "output_type": "execute_result",
          "data": {
            "text/plain": [
              "'2.12.0'"
            ],
            "application/vnd.google.colaboratory.intrinsic+json": {
              "type": "string"
            }
          },
          "metadata": {},
          "execution_count": 2
        }
      ]
    },
    {
      "cell_type": "markdown",
      "source": [
        "Preprocess/Transform data to avoid overfitting and apply feature scaling"
      ],
      "metadata": {
        "id": "IMCZf0JXNmqN"
      }
    },
    {
      "cell_type": "code",
      "source": [
        "train_datagen = ImageDataGenerator(\n",
        "    rescale=1./255,\n",
        "    shear_range=0.2,\n",
        "    zoom_range=0.2,\n",
        "    horizontal_flip=True\n",
        ")\n",
        "\n",
        "test_datagen = ImageDataGenerator(rescale=1./255)\n"
      ],
      "metadata": {
        "id": "uWHt_rp-Np9h"
      },
      "execution_count": null,
      "outputs": []
    },
    {
      "cell_type": "markdown",
      "source": [
        "Mount Google Drive"
      ],
      "metadata": {
        "id": "o5Rq98CWWoJK"
      }
    },
    {
      "cell_type": "code",
      "source": [
        "from google.colab import drive\n",
        "\n",
        "# This will prompt you to authorize access to your Google Drive.\n",
        "drive.mount('/content/drive')"
      ],
      "metadata": {
        "colab": {
          "base_uri": "https://localhost:8080/"
        },
        "id": "lUmtxO09Wp37",
        "outputId": "93e6123f-0cc3-473c-ab23-8833055305e6"
      },
      "execution_count": null,
      "outputs": [
        {
          "output_type": "stream",
          "name": "stdout",
          "text": [
            "Drive already mounted at /content/drive; to attempt to forcibly remount, call drive.mount(\"/content/drive\", force_remount=True).\n"
          ]
        }
      ]
    },
    {
      "cell_type": "markdown",
      "source": [
        "Load the training set with 64x64 images"
      ],
      "metadata": {
        "id": "DKaJZ4CwJOt8"
      }
    },
    {
      "cell_type": "code",
      "source": [
        "training_set = train_datagen.flow_from_directory('/content/drive/MyDrive/ML/CNN/dataset/training_set', target_size=(64,64),batch_size=32, class_mode='binary')\n",
        "#training_set = train_datagen.flow_from_directory('/dataset/training_set', target_size=(64,64),batch_size=32, class_mode='binary')"
      ],
      "metadata": {
        "colab": {
          "base_uri": "https://localhost:8080/"
        },
        "id": "f4H9M0OOJfcx",
        "outputId": "2122d237-39f6-4188-f540-d0282c84e130"
      },
      "execution_count": null,
      "outputs": [
        {
          "output_type": "stream",
          "name": "stdout",
          "text": [
            "Found 8000 images belonging to 2 classes.\n"
          ]
        }
      ]
    },
    {
      "cell_type": "markdown",
      "source": [
        "Load the testing set with 64x64 images"
      ],
      "metadata": {
        "id": "JDdfsa5CKVH5"
      }
    },
    {
      "cell_type": "code",
      "source": [
        "\n",
        "test_set = test_datagen.flow_from_directory('/content/drive/MyDrive/ML/CNN/dataset/test_set', target_size=(64,64), batch_size=32, class_mode='binary')\n",
        "#test_set = test_datagen.flow_from_directory('/dataset/test_set', target_size=(64,64), batch_size=32, class_mode='binary')"
      ],
      "metadata": {
        "colab": {
          "base_uri": "https://localhost:8080/"
        },
        "id": "3y1m340XKY1b",
        "outputId": "7c0b21aa-d92d-467a-d675-50d5f304fd23"
      },
      "execution_count": null,
      "outputs": [
        {
          "output_type": "stream",
          "name": "stdout",
          "text": [
            "Found 2000 images belonging to 2 classes.\n"
          ]
        }
      ]
    },
    {
      "cell_type": "markdown",
      "source": [
        "Initialize CNN"
      ],
      "metadata": {
        "id": "8EbKycI9L2b0"
      }
    },
    {
      "cell_type": "code",
      "source": [
        "cnn = tf.keras.models.Sequential()"
      ],
      "metadata": {
        "id": "-JRp7nXpL3_9"
      },
      "execution_count": null,
      "outputs": []
    },
    {
      "cell_type": "markdown",
      "source": [
        "Add convolutional layer"
      ],
      "metadata": {
        "id": "3b8GdhlmRNFu"
      }
    },
    {
      "cell_type": "code",
      "source": [
        "cnn.add(tf.keras.layers.Conv2D(filters=32, kernel_size=3, activation='relu', input_shape=[64, 64, 3]))"
      ],
      "metadata": {
        "id": "r1JhE9l1RO-5"
      },
      "execution_count": null,
      "outputs": []
    },
    {
      "cell_type": "markdown",
      "source": [
        "Pooling"
      ],
      "metadata": {
        "id": "69yio25kTGsB"
      }
    },
    {
      "cell_type": "code",
      "source": [
        "cnn.add(tf.keras.layers.MaxPool2D(pool_size=2, strides=2))"
      ],
      "metadata": {
        "id": "adqtCQkNTH8E"
      },
      "execution_count": null,
      "outputs": []
    },
    {
      "cell_type": "markdown",
      "source": [
        "Add second convolutional layer\n",
        "(copy from the above, except remove the input_shape as this is the second layer, only the first layer needs to specify the input_shape)"
      ],
      "metadata": {
        "id": "VOwWcU0XTfit"
      }
    },
    {
      "cell_type": "code",
      "source": [
        "cnn.add(tf.keras.layers.Conv2D(filters=32, kernel_size=3, activation='relu'))\n",
        "cnn.add(tf.keras.layers.MaxPool2D(pool_size=2, strides=2))"
      ],
      "metadata": {
        "id": "-XoroK0jTixP"
      },
      "execution_count": null,
      "outputs": []
    },
    {
      "cell_type": "markdown",
      "source": [
        "Add Flattening layer"
      ],
      "metadata": {
        "id": "XKaNdqqRUGOY"
      }
    },
    {
      "cell_type": "code",
      "source": [
        "cnn.add(tf.keras.layers.Flatten())"
      ],
      "metadata": {
        "id": "W8XG_QnUUIif"
      },
      "execution_count": null,
      "outputs": []
    },
    {
      "cell_type": "markdown",
      "source": [
        "Add connecting layer to ANN"
      ],
      "metadata": {
        "id": "wxWBv3AgU2AR"
      }
    },
    {
      "cell_type": "code",
      "source": [
        "cnn.add(tf.keras.layers.Dense(units=128, activation='relu'))"
      ],
      "metadata": {
        "id": "i3eIGxWqU4DW"
      },
      "execution_count": null,
      "outputs": []
    },
    {
      "cell_type": "markdown",
      "source": [
        "Add output layer"
      ],
      "metadata": {
        "id": "fvPmxpY3VWQn"
      }
    },
    {
      "cell_type": "code",
      "source": [
        "cnn.add(tf.keras.layers.Dense(units=1, activation='sigmoid'))"
      ],
      "metadata": {
        "id": "qww7Xpi2VXT-"
      },
      "execution_count": null,
      "outputs": []
    },
    {
      "cell_type": "markdown",
      "source": [
        "Compile the CNN"
      ],
      "metadata": {
        "id": "D4XngK2xWWtf"
      }
    },
    {
      "cell_type": "code",
      "source": [
        "cnn.compile(optimizer='adam', loss='binary_crossentropy', metrics=['accuracy'])"
      ],
      "metadata": {
        "id": "JBabhzRaWYdq"
      },
      "execution_count": null,
      "outputs": []
    },
    {
      "cell_type": "markdown",
      "source": [
        "Training the CNN"
      ],
      "metadata": {
        "id": "SJ7FMPlstCLn"
      }
    },
    {
      "cell_type": "markdown",
      "source": [
        "Using free Google GPU (Graphics Processing Unit) Enable the GPU in the runtime menu"
      ],
      "metadata": {
        "id": "u7FWLSMLHE9Q"
      }
    },
    {
      "cell_type": "code",
      "source": [
        "# Check if GPU is available and its name\n",
        "print(tf.config.list_physical_devices('GPU'))"
      ],
      "metadata": {
        "colab": {
          "base_uri": "https://localhost:8080/"
        },
        "id": "5t4nn1myHHRZ",
        "outputId": "53cd6d20-0d57-4abb-f810-92d80ba9140a"
      },
      "execution_count": null,
      "outputs": [
        {
          "output_type": "stream",
          "name": "stdout",
          "text": [
            "[PhysicalDevice(name='/physical_device:GPU:0', device_type='GPU')]\n"
          ]
        }
      ]
    },
    {
      "cell_type": "code",
      "source": [
        "cnn.fit(x=training_set, validation_data=test_set, epochs=25)"
      ],
      "metadata": {
        "colab": {
          "base_uri": "https://localhost:8080/"
        },
        "id": "CxfuT2-UtDrB",
        "outputId": "b34b58a3-c61d-4296-a778-f340a566fed9"
      },
      "execution_count": null,
      "outputs": [
        {
          "output_type": "stream",
          "name": "stdout",
          "text": [
            "Epoch 1/25\n",
            "250/250 [==============================] - 1516s 6s/step - loss: 0.6773 - accuracy: 0.5840 - val_loss: 0.6079 - val_accuracy: 0.6785\n",
            "Epoch 2/25\n",
            "250/250 [==============================] - 35s 141ms/step - loss: 0.6118 - accuracy: 0.6581 - val_loss: 0.7291 - val_accuracy: 0.5890\n",
            "Epoch 3/25\n",
            "250/250 [==============================] - 35s 140ms/step - loss: 0.5583 - accuracy: 0.7097 - val_loss: 0.5472 - val_accuracy: 0.7230\n",
            "Epoch 4/25\n",
            "250/250 [==============================] - 38s 152ms/step - loss: 0.5189 - accuracy: 0.7396 - val_loss: 0.5273 - val_accuracy: 0.7430\n",
            "Epoch 5/25\n",
            "250/250 [==============================] - 35s 139ms/step - loss: 0.4980 - accuracy: 0.7546 - val_loss: 0.4820 - val_accuracy: 0.7655\n",
            "Epoch 6/25\n",
            "250/250 [==============================] - 36s 142ms/step - loss: 0.4804 - accuracy: 0.7648 - val_loss: 0.4859 - val_accuracy: 0.7745\n",
            "Epoch 7/25\n",
            "250/250 [==============================] - 35s 142ms/step - loss: 0.4642 - accuracy: 0.7811 - val_loss: 0.4716 - val_accuracy: 0.7765\n",
            "Epoch 8/25\n",
            "250/250 [==============================] - 37s 147ms/step - loss: 0.4464 - accuracy: 0.7862 - val_loss: 0.5073 - val_accuracy: 0.7615\n",
            "Epoch 9/25\n",
            "250/250 [==============================] - 36s 143ms/step - loss: 0.4307 - accuracy: 0.8008 - val_loss: 0.4691 - val_accuracy: 0.7745\n",
            "Epoch 10/25\n",
            "250/250 [==============================] - 36s 145ms/step - loss: 0.4192 - accuracy: 0.8096 - val_loss: 0.4497 - val_accuracy: 0.8010\n",
            "Epoch 11/25\n",
            "250/250 [==============================] - 36s 142ms/step - loss: 0.4052 - accuracy: 0.8129 - val_loss: 0.4794 - val_accuracy: 0.7860\n",
            "Epoch 12/25\n",
            "250/250 [==============================] - 37s 150ms/step - loss: 0.3951 - accuracy: 0.8145 - val_loss: 0.4793 - val_accuracy: 0.7770\n",
            "Epoch 13/25\n",
            "250/250 [==============================] - 36s 143ms/step - loss: 0.3815 - accuracy: 0.8244 - val_loss: 0.4518 - val_accuracy: 0.8020\n",
            "Epoch 14/25\n",
            "250/250 [==============================] - 36s 142ms/step - loss: 0.3687 - accuracy: 0.8313 - val_loss: 0.5873 - val_accuracy: 0.7695\n",
            "Epoch 15/25\n",
            "250/250 [==============================] - 37s 146ms/step - loss: 0.3559 - accuracy: 0.8415 - val_loss: 0.4807 - val_accuracy: 0.8105\n",
            "Epoch 16/25\n",
            "250/250 [==============================] - 37s 150ms/step - loss: 0.3365 - accuracy: 0.8569 - val_loss: 0.4688 - val_accuracy: 0.8115\n",
            "Epoch 17/25\n",
            "250/250 [==============================] - 36s 144ms/step - loss: 0.3270 - accuracy: 0.8545 - val_loss: 0.4612 - val_accuracy: 0.8175\n",
            "Epoch 18/25\n",
            "250/250 [==============================] - 36s 145ms/step - loss: 0.3075 - accuracy: 0.8627 - val_loss: 0.4965 - val_accuracy: 0.7930\n",
            "Epoch 19/25\n",
            "250/250 [==============================] - 36s 143ms/step - loss: 0.2956 - accuracy: 0.8724 - val_loss: 0.5160 - val_accuracy: 0.7875\n",
            "Epoch 20/25\n",
            "250/250 [==============================] - 38s 154ms/step - loss: 0.2845 - accuracy: 0.8770 - val_loss: 0.5455 - val_accuracy: 0.7900\n",
            "Epoch 21/25\n",
            "250/250 [==============================] - 36s 143ms/step - loss: 0.2792 - accuracy: 0.8845 - val_loss: 0.4734 - val_accuracy: 0.8160\n",
            "Epoch 22/25\n",
            "250/250 [==============================] - 36s 143ms/step - loss: 0.2568 - accuracy: 0.8945 - val_loss: 0.5297 - val_accuracy: 0.8115\n",
            "Epoch 23/25\n",
            "250/250 [==============================] - 41s 162ms/step - loss: 0.2464 - accuracy: 0.8932 - val_loss: 0.4946 - val_accuracy: 0.8110\n",
            "Epoch 24/25\n",
            "250/250 [==============================] - 37s 148ms/step - loss: 0.2382 - accuracy: 0.9036 - val_loss: 0.4918 - val_accuracy: 0.8040\n",
            "Epoch 25/25\n",
            "250/250 [==============================] - 35s 140ms/step - loss: 0.2335 - accuracy: 0.9035 - val_loss: 0.5039 - val_accuracy: 0.8100\n"
          ]
        },
        {
          "output_type": "execute_result",
          "data": {
            "text/plain": [
              "<keras.callbacks.History at 0x7a825ff46350>"
            ]
          },
          "metadata": {},
          "execution_count": 16
        }
      ]
    },
    {
      "cell_type": "code",
      "source": [],
      "metadata": {
        "id": "qKXT17ujqsRX"
      },
      "execution_count": null,
      "outputs": []
    },
    {
      "cell_type": "markdown",
      "source": [
        "Make prediction"
      ],
      "metadata": {
        "id": "RUReUNwX-b7W"
      }
    },
    {
      "cell_type": "code",
      "source": [
        "# Define the path in your Google Drive where you want to save the model\n",
        "model_save_path = '/content/drive/MyDrive/ML/CNN/trained_model_final.h5'\n",
        "\n",
        "# Save the model to the specified path\n",
        "cnn.save(model_save_path)"
      ],
      "metadata": {
        "id": "ymQR3_dLbpVq"
      },
      "execution_count": null,
      "outputs": []
    },
    {
      "cell_type": "code",
      "source": [
        "import numpy as np\n",
        "from keras.preprocessing.image import image_utils\n",
        "test_image = image_utils.load_img('/content/drive/MyDrive/ML/CNN/dataset/single_prediction/cat_or_dog_1.jpg', target_size = (64, 64))\n",
        "# Display the image using Matplotlib\n",
        "import matplotlib.pyplot as plt\n",
        "plt.imshow(test_image)\n",
        "plt.show()\n",
        "test_image = image_utils.img_to_array(test_image);\n",
        "test_image = np.expand_dims(test_image, axis=0)\n",
        "result = cnn.predict(test_image)\n",
        "print(result)\n",
        "print(training_set.class_indices)\n",
        "if result[0][0] == 1:\n",
        "  prediction = 'dog'\n",
        "else:\n",
        "  prediction = 'cat'\n",
        "print(prediction)"
      ],
      "metadata": {
        "colab": {
          "base_uri": "https://localhost:8080/",
          "height": 501
        },
        "id": "omnER7OF-do9",
        "outputId": "fce0a692-50eb-42ff-8812-d84b09966a4c"
      },
      "execution_count": null,
      "outputs": [
        {
          "output_type": "display_data",
          "data": {
            "text/plain": [
              "<Figure size 640x480 with 1 Axes>"
            ],
            "image/png": "[encoded data removed]"
          },
          "metadata": {}
        },
        {
          "output_type": "stream",
          "name": "stdout",
          "text": [
            "1/1 [==============================] - 0s 38ms/step\n",
            "[[1.]]\n",
            "{'cats': 0, 'dogs': 1}\n",
            "dog\n"
          ]
        }
      ]
    },
    {
      "cell_type": "code",
      "source": [
        "test_image = image_utils.load_img('/content/drive/MyDrive/ML/CNN/dataset/single_prediction/cat_or_dog_2.jpg', target_size = (64, 64))\n",
        "# Display the image using Matplotlib\n",
        "plt.imshow(test_image)\n",
        "plt.show()\n",
        "test_image = image_utils.img_to_array(test_image);\n",
        "test_image = np.expand_dims(test_image, axis=0)\n",
        "result = cnn.predict(test_image)\n",
        "print(result)\n",
        "print(training_set.class_indices)\n",
        "if result[0][0] == 1:\n",
        "  prediction = 'dog'\n",
        "else:\n",
        "  prediction = 'cat'\n",
        "print(prediction)"
      ],
      "metadata": {
        "colab": {
          "base_uri": "https://localhost:8080/",
          "height": 501
        },
        "id": "3oqP9ZB_sDRU",
        "outputId": "0b430983-7839-4ef1-870c-79de6042d85d"
      },
      "execution_count": null,
      "outputs": [
        {
          "output_type": "display_data",
          "data": {
            "text/plain": [
              "<Figure size 640x480 with 1 Axes>"
            ],
            "image/png": "[encoded data removed]"
          },
          "metadata": {}
        },
        {
          "output_type": "stream",
          "name": "stdout",
          "text": [
            "1/1 [==============================] - 0s 18ms/step\n",
            "[[0.]]\n",
            "{'cats': 0, 'dogs': 1}\n",
            "cat\n"
          ]
        }
      ]
    },
    {
      "cell_type": "markdown",
      "source": [
        "Using the saved already trained model"
      ],
      "metadata": {
        "id": "hH_QsjD3t2gE"
      }
    },
    {
      "cell_type": "code",
      "source": [
        "from keras.models import load_model\n",
        "\n",
        "# Load the saved model from Google Drive\n",
        "saved_model = load_model(model_save_path)\n",
        "\n",
        "test_image = image_utils.load_img('/content/drive/MyDrive/ML/CNN/dataset/single_prediction/cat_or_dog_2.jpg', target_size = (64, 64))\n",
        "# Display the image using Matplotlib\n",
        "plt.imshow(test_image)\n",
        "plt.show()\n",
        "test_image = image_utils.img_to_array(test_image);\n",
        "test_image = np.expand_dims(test_image, axis=0)\n",
        "saved_model.predict(test_image)\n",
        "print(result)\n",
        "print(training_set.class_indices)\n",
        "if result[0][0] == 1:\n",
        "  prediction = 'dog'\n",
        "else:\n",
        "  prediction = 'cat'\n",
        "print(prediction)"
      ],
      "metadata": {
        "colab": {
          "base_uri": "https://localhost:8080/",
          "height": 501
        },
        "id": "2jck4ecUs83G",
        "outputId": "7f14ab9d-0fd4-41b2-c005-20a3639cf9db"
      },
      "execution_count": null,
      "outputs": [
        {
          "output_type": "display_data",
          "data": {
            "text/plain": [
              "<Figure size 640x480 with 1 Axes>"
            ],
            "image/png": "[encoded data removed]"
          },
          "metadata": {}
        },
        {
          "output_type": "stream",
          "name": "stdout",
          "text": [
            "1/1 [==============================] - 0s 108ms/step\n",
            "[[0.]]\n",
            "{'cats': 0, 'dogs': 1}\n",
            "cat\n"
          ]
        }
      ]
    }
  ]
}